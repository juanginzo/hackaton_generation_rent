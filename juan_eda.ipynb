{
 "cells": [
  {
   "cell_type": "markdown",
   "metadata": {},
   "source": [
    "# Generation Rent Hackaton - Team Anorak\n",
    "\n",
    "## Analysis of Airbnb Data"
   ]
  },
  {
   "cell_type": "code",
   "execution_count": 1,
   "metadata": {},
   "outputs": [],
   "source": [
    "import pandas as pd"
   ]
  },
  {
   "cell_type": "markdown",
   "metadata": {},
   "source": [
    "## The datasets:"
   ]
  },
  {
   "cell_type": "markdown",
   "metadata": {},
   "source": [
    "### reviews 2.csv\n",
    "\n",
    "Detailed Review Data for listings in Edinburgh"
   ]
  },
  {
   "cell_type": "code",
   "execution_count": 60,
   "metadata": {},
   "outputs": [
    {
     "name": "stdout",
     "output_type": "stream",
     "text": [
      "(259295, 6)\n"
     ]
    },
    {
     "data": {
      "text/html": [
       "<div>\n",
       "<style scoped>\n",
       "    .dataframe tbody tr th:only-of-type {\n",
       "        vertical-align: middle;\n",
       "    }\n",
       "\n",
       "    .dataframe tbody tr th {\n",
       "        vertical-align: top;\n",
       "    }\n",
       "\n",
       "    .dataframe thead th {\n",
       "        text-align: right;\n",
       "    }\n",
       "</style>\n",
       "<table border=\"1\" class=\"dataframe\">\n",
       "  <thead>\n",
       "    <tr style=\"text-align: right;\">\n",
       "      <th></th>\n",
       "      <th>listing_id</th>\n",
       "      <th>id</th>\n",
       "      <th>date</th>\n",
       "      <th>reviewer_id</th>\n",
       "      <th>reviewer_name</th>\n",
       "      <th>comments</th>\n",
       "    </tr>\n",
       "  </thead>\n",
       "  <tbody>\n",
       "    <tr>\n",
       "      <th>0</th>\n",
       "      <td>19454873</td>\n",
       "      <td>178944624</td>\n",
       "      <td>2017-08-06</td>\n",
       "      <td>15628941</td>\n",
       "      <td>Silvia</td>\n",
       "      <td>Kate has a beautiful home, very clean and conv...</td>\n",
       "    </tr>\n",
       "    <tr>\n",
       "      <th>1</th>\n",
       "      <td>19454873</td>\n",
       "      <td>192388433</td>\n",
       "      <td>2017-09-10</td>\n",
       "      <td>115363252</td>\n",
       "      <td>Ana María</td>\n",
       "      <td>Estuvimos dos noches en el apartamento de Kate...</td>\n",
       "    </tr>\n",
       "    <tr>\n",
       "      <th>2</th>\n",
       "      <td>1753906</td>\n",
       "      <td>17205451</td>\n",
       "      <td>2014-08-09</td>\n",
       "      <td>214472</td>\n",
       "      <td>Gabrielle</td>\n",
       "      <td>Ingrid is a very warm -hearted person and made...</td>\n",
       "    </tr>\n",
       "  </tbody>\n",
       "</table>\n",
       "</div>"
      ],
      "text/plain": [
       "   listing_id         id        date  reviewer_id reviewer_name  \\\n",
       "0    19454873  178944624  2017-08-06     15628941        Silvia   \n",
       "1    19454873  192388433  2017-09-10    115363252     Ana María   \n",
       "2     1753906   17205451  2014-08-09       214472     Gabrielle   \n",
       "\n",
       "                                            comments  \n",
       "0  Kate has a beautiful home, very clean and conv...  \n",
       "1  Estuvimos dos noches en el apartamento de Kate...  \n",
       "2  Ingrid is a very warm -hearted person and made...  "
      ]
     },
     "execution_count": 60,
     "metadata": {},
     "output_type": "execute_result"
    }
   ],
   "source": [
    "reviews2 = pd.read_csv('airbnb_data/reviews 2.csv')\n",
    "print(reviews2.shape)\n",
    "reviews2.head(3)"
   ]
  },
  {
   "cell_type": "markdown",
   "metadata": {},
   "source": [
    "### reviews.csv\n",
    "\n",
    "Summary Review data and Listing ID (to facilitate time based analytics and visualisations linked to a listing)."
   ]
  },
  {
   "cell_type": "code",
   "execution_count": 59,
   "metadata": {},
   "outputs": [
    {
     "name": "stdout",
     "output_type": "stream",
     "text": [
      "(259295, 2)\n"
     ]
    },
    {
     "data": {
      "text/html": [
       "<div>\n",
       "<style scoped>\n",
       "    .dataframe tbody tr th:only-of-type {\n",
       "        vertical-align: middle;\n",
       "    }\n",
       "\n",
       "    .dataframe tbody tr th {\n",
       "        vertical-align: top;\n",
       "    }\n",
       "\n",
       "    .dataframe thead th {\n",
       "        text-align: right;\n",
       "    }\n",
       "</style>\n",
       "<table border=\"1\" class=\"dataframe\">\n",
       "  <thead>\n",
       "    <tr style=\"text-align: right;\">\n",
       "      <th></th>\n",
       "      <th>listing_id</th>\n",
       "      <th>date</th>\n",
       "    </tr>\n",
       "  </thead>\n",
       "  <tbody>\n",
       "    <tr>\n",
       "      <th>0</th>\n",
       "      <td>19454873</td>\n",
       "      <td>2017-08-06</td>\n",
       "    </tr>\n",
       "    <tr>\n",
       "      <th>1</th>\n",
       "      <td>19454873</td>\n",
       "      <td>2017-09-10</td>\n",
       "    </tr>\n",
       "    <tr>\n",
       "      <th>2</th>\n",
       "      <td>1753906</td>\n",
       "      <td>2014-08-09</td>\n",
       "    </tr>\n",
       "  </tbody>\n",
       "</table>\n",
       "</div>"
      ],
      "text/plain": [
       "   listing_id        date\n",
       "0    19454873  2017-08-06\n",
       "1    19454873  2017-09-10\n",
       "2     1753906  2014-08-09"
      ]
     },
     "execution_count": 59,
     "metadata": {},
     "output_type": "execute_result"
    }
   ],
   "source": [
    "reviews = pd.read_csv('airbnb_data/reviews.csv')\n",
    "print(reviews.shape)\n",
    "reviews.head(3)"
   ]
  },
  {
   "cell_type": "markdown",
   "metadata": {},
   "source": [
    "### neighbourhoods.geojson\n",
    "\n",
    "GeoJSON file of neighbourhoods of the city."
   ]
  },
  {
   "cell_type": "code",
   "execution_count": 46,
   "metadata": {},
   "outputs": [
    {
     "name": "stdout",
     "output_type": "stream",
     "text": [
      "(111, 2)\n"
     ]
    },
    {
     "data": {
      "text/html": [
       "<div>\n",
       "<style scoped>\n",
       "    .dataframe tbody tr th:only-of-type {\n",
       "        vertical-align: middle;\n",
       "    }\n",
       "\n",
       "    .dataframe tbody tr th {\n",
       "        vertical-align: top;\n",
       "    }\n",
       "\n",
       "    .dataframe thead th {\n",
       "        text-align: right;\n",
       "    }\n",
       "</style>\n",
       "<table border=\"1\" class=\"dataframe\">\n",
       "  <thead>\n",
       "    <tr style=\"text-align: right;\">\n",
       "      <th></th>\n",
       "      <th>features</th>\n",
       "      <th>type</th>\n",
       "    </tr>\n",
       "  </thead>\n",
       "  <tbody>\n",
       "    <tr>\n",
       "      <th>0</th>\n",
       "      <td>{'type': 'Feature', 'geometry': {'type': 'Mult...</td>\n",
       "      <td>FeatureCollection</td>\n",
       "    </tr>\n",
       "    <tr>\n",
       "      <th>1</th>\n",
       "      <td>{'type': 'Feature', 'geometry': {'type': 'Mult...</td>\n",
       "      <td>FeatureCollection</td>\n",
       "    </tr>\n",
       "    <tr>\n",
       "      <th>2</th>\n",
       "      <td>{'type': 'Feature', 'geometry': {'type': 'Mult...</td>\n",
       "      <td>FeatureCollection</td>\n",
       "    </tr>\n",
       "  </tbody>\n",
       "</table>\n",
       "</div>"
      ],
      "text/plain": [
       "                                            features               type\n",
       "0  {'type': 'Feature', 'geometry': {'type': 'Mult...  FeatureCollection\n",
       "1  {'type': 'Feature', 'geometry': {'type': 'Mult...  FeatureCollection\n",
       "2  {'type': 'Feature', 'geometry': {'type': 'Mult...  FeatureCollection"
      ]
     },
     "execution_count": 46,
     "metadata": {},
     "output_type": "execute_result"
    }
   ],
   "source": [
    "neighbourhoods_geo_json = pd.read_json('airbnb_data/neighbourhoods.geojson')\n",
    "print(neighbourhoods_geo_json.shape)\n",
    "neighbourhoods_geo_json.head(3) # neighbourhood_group is all NaN"
   ]
  },
  {
   "cell_type": "markdown",
   "metadata": {},
   "source": [
    "### neighbourhoods.csv\n",
    "\n",
    "Neighbourhood list for geo filter. Sourced from city or open source GIS files."
   ]
  },
  {
   "cell_type": "code",
   "execution_count": 42,
   "metadata": {},
   "outputs": [
    {
     "name": "stdout",
     "output_type": "stream",
     "text": [
      "(111, 2)\n"
     ]
    },
    {
     "data": {
      "text/html": [
       "<div>\n",
       "<style scoped>\n",
       "    .dataframe tbody tr th:only-of-type {\n",
       "        vertical-align: middle;\n",
       "    }\n",
       "\n",
       "    .dataframe tbody tr th {\n",
       "        vertical-align: top;\n",
       "    }\n",
       "\n",
       "    .dataframe thead th {\n",
       "        text-align: right;\n",
       "    }\n",
       "</style>\n",
       "<table border=\"1\" class=\"dataframe\">\n",
       "  <thead>\n",
       "    <tr style=\"text-align: right;\">\n",
       "      <th></th>\n",
       "      <th>neighbourhood_group</th>\n",
       "      <th>neighbourhood</th>\n",
       "    </tr>\n",
       "  </thead>\n",
       "  <tbody>\n",
       "    <tr>\n",
       "      <th>0</th>\n",
       "      <td>NaN</td>\n",
       "      <td>Abbeyhill</td>\n",
       "    </tr>\n",
       "    <tr>\n",
       "      <th>1</th>\n",
       "      <td>NaN</td>\n",
       "      <td>Baberton and Juniper Green</td>\n",
       "    </tr>\n",
       "    <tr>\n",
       "      <th>2</th>\n",
       "      <td>NaN</td>\n",
       "      <td>Balerno and Bonnington Village</td>\n",
       "    </tr>\n",
       "  </tbody>\n",
       "</table>\n",
       "</div>"
      ],
      "text/plain": [
       "   neighbourhood_group                   neighbourhood\n",
       "0                  NaN                       Abbeyhill\n",
       "1                  NaN      Baberton and Juniper Green\n",
       "2                  NaN  Balerno and Bonnington Village"
      ]
     },
     "execution_count": 42,
     "metadata": {},
     "output_type": "execute_result"
    }
   ],
   "source": [
    "neighbourhoods = pd.read_csv('airbnb_data/neighbourhoods.csv')\n",
    "print(neighbourhoods.shape)\n",
    "neighbourhoods.head(3) # neighbourhood_group is all NaN"
   ]
  },
  {
   "cell_type": "markdown",
   "metadata": {},
   "source": [
    "### calendar.csv\n",
    "\n",
    "Detailed Calendar Data for listings in Edinburgh"
   ]
  },
  {
   "cell_type": "code",
   "execution_count": 37,
   "metadata": {},
   "outputs": [
    {
     "name": "stdout",
     "output_type": "stream",
     "text": [
      "(3517870, 4)\n"
     ]
    },
    {
     "data": {
      "text/html": [
       "<div>\n",
       "<style scoped>\n",
       "    .dataframe tbody tr th:only-of-type {\n",
       "        vertical-align: middle;\n",
       "    }\n",
       "\n",
       "    .dataframe tbody tr th {\n",
       "        vertical-align: top;\n",
       "    }\n",
       "\n",
       "    .dataframe thead th {\n",
       "        text-align: right;\n",
       "    }\n",
       "</style>\n",
       "<table border=\"1\" class=\"dataframe\">\n",
       "  <thead>\n",
       "    <tr style=\"text-align: right;\">\n",
       "      <th></th>\n",
       "      <th>listing_id</th>\n",
       "      <th>date</th>\n",
       "      <th>available</th>\n",
       "      <th>price</th>\n",
       "    </tr>\n",
       "  </thead>\n",
       "  <tbody>\n",
       "    <tr>\n",
       "      <th>0</th>\n",
       "      <td>12089682</td>\n",
       "      <td>2018-09-17</td>\n",
       "      <td>t</td>\n",
       "      <td>$100.00</td>\n",
       "    </tr>\n",
       "    <tr>\n",
       "      <th>1</th>\n",
       "      <td>12089682</td>\n",
       "      <td>2018-09-16</td>\n",
       "      <td>t</td>\n",
       "      <td>$100.00</td>\n",
       "    </tr>\n",
       "    <tr>\n",
       "      <th>2</th>\n",
       "      <td>12089682</td>\n",
       "      <td>2018-09-15</td>\n",
       "      <td>t</td>\n",
       "      <td>$100.00</td>\n",
       "    </tr>\n",
       "  </tbody>\n",
       "</table>\n",
       "</div>"
      ],
      "text/plain": [
       "   listing_id        date available    price\n",
       "0    12089682  2018-09-17         t  $100.00\n",
       "1    12089682  2018-09-16         t  $100.00\n",
       "2    12089682  2018-09-15         t  $100.00"
      ]
     },
     "execution_count": 37,
     "metadata": {},
     "output_type": "execute_result"
    }
   ],
   "source": [
    "calendar = pd.read_csv('airbnb_data/calendar.csv')\n",
    "print(calendar.shape)\n",
    "calendar.head(3)"
   ]
  },
  {
   "cell_type": "markdown",
   "metadata": {},
   "source": [
    "### listings.csv\n",
    "\n",
    "Summary information and metrics for listings in Edinburgh (good for visualisations)."
   ]
  },
  {
   "cell_type": "code",
   "execution_count": 31,
   "metadata": {},
   "outputs": [
    {
     "name": "stdout",
     "output_type": "stream",
     "text": [
      "(9638, 16)\n"
     ]
    },
    {
     "data": {
      "text/html": [
       "<div>\n",
       "<style scoped>\n",
       "    .dataframe tbody tr th:only-of-type {\n",
       "        vertical-align: middle;\n",
       "    }\n",
       "\n",
       "    .dataframe tbody tr th {\n",
       "        vertical-align: top;\n",
       "    }\n",
       "\n",
       "    .dataframe thead th {\n",
       "        text-align: right;\n",
       "    }\n",
       "</style>\n",
       "<table border=\"1\" class=\"dataframe\">\n",
       "  <thead>\n",
       "    <tr style=\"text-align: right;\">\n",
       "      <th></th>\n",
       "      <th>id</th>\n",
       "      <th>name</th>\n",
       "      <th>host_id</th>\n",
       "      <th>host_name</th>\n",
       "      <th>neighbourhood_group</th>\n",
       "      <th>neighbourhood</th>\n",
       "      <th>latitude</th>\n",
       "      <th>longitude</th>\n",
       "      <th>room_type</th>\n",
       "      <th>price</th>\n",
       "      <th>minimum_nights</th>\n",
       "      <th>number_of_reviews</th>\n",
       "      <th>last_review</th>\n",
       "      <th>reviews_per_month</th>\n",
       "      <th>calculated_host_listings_count</th>\n",
       "      <th>availability_365</th>\n",
       "    </tr>\n",
       "  </thead>\n",
       "  <tbody>\n",
       "    <tr>\n",
       "      <th>0</th>\n",
       "      <td>12089682</td>\n",
       "      <td>The Hayloft Balerno Edinburgh-Rural Chique</td>\n",
       "      <td>29166668</td>\n",
       "      <td>Christopher</td>\n",
       "      <td>NaN</td>\n",
       "      <td>Balerno and Bonnington Village</td>\n",
       "      <td>55.86746</td>\n",
       "      <td>-3.383965</td>\n",
       "      <td>Entire home/apt</td>\n",
       "      <td>90</td>\n",
       "      <td>3</td>\n",
       "      <td>7</td>\n",
       "      <td>2017-08-29</td>\n",
       "      <td>1.15</td>\n",
       "      <td>1</td>\n",
       "      <td>308</td>\n",
       "    </tr>\n",
       "  </tbody>\n",
       "</table>\n",
       "</div>"
      ],
      "text/plain": [
       "         id                                        name   host_id  \\\n",
       "0  12089682  The Hayloft Balerno Edinburgh-Rural Chique  29166668   \n",
       "\n",
       "     host_name  neighbourhood_group                   neighbourhood  latitude  \\\n",
       "0  Christopher                  NaN  Balerno and Bonnington Village  55.86746   \n",
       "\n",
       "   longitude        room_type  price  minimum_nights  number_of_reviews  \\\n",
       "0  -3.383965  Entire home/apt     90               3                  7   \n",
       "\n",
       "  last_review  reviews_per_month  calculated_host_listings_count  \\\n",
       "0  2017-08-29               1.15                               1   \n",
       "\n",
       "   availability_365  \n",
       "0               308  "
      ]
     },
     "execution_count": 31,
     "metadata": {},
     "output_type": "execute_result"
    }
   ],
   "source": [
    "listings = pd.read_csv('airbnb_data/listings.csv')\n",
    "print(listings.shape)\n",
    "listings.head(1)"
   ]
  },
  {
   "cell_type": "code",
   "execution_count": 34,
   "metadata": {},
   "outputs": [
    {
     "name": "stdout",
     "output_type": "stream",
     "text": [
      "id\n",
      "name\n",
      "host_id\n",
      "host_name\n",
      "neighbourhood_group\n",
      "neighbourhood\n",
      "latitude\n",
      "longitude\n",
      "room_type\n",
      "price\n",
      "minimum_nights\n",
      "number_of_reviews\n",
      "last_review\n",
      "reviews_per_month\n",
      "calculated_host_listings_count\n",
      "availability_365\n"
     ]
    }
   ],
   "source": [
    "for col in listings.columns:\n",
    "    print(col)"
   ]
  },
  {
   "cell_type": "markdown",
   "metadata": {},
   "source": [
    "### listings 2.csv \n",
    "\n",
    "Detailed Listings data for Edinburgh"
   ]
  },
  {
   "cell_type": "code",
   "execution_count": 26,
   "metadata": {},
   "outputs": [
    {
     "name": "stdout",
     "output_type": "stream",
     "text": [
      "(9638, 96)\n"
     ]
    },
    {
     "data": {
      "text/html": [
       "<div>\n",
       "<style scoped>\n",
       "    .dataframe tbody tr th:only-of-type {\n",
       "        vertical-align: middle;\n",
       "    }\n",
       "\n",
       "    .dataframe tbody tr th {\n",
       "        vertical-align: top;\n",
       "    }\n",
       "\n",
       "    .dataframe thead th {\n",
       "        text-align: right;\n",
       "    }\n",
       "</style>\n",
       "<table border=\"1\" class=\"dataframe\">\n",
       "  <thead>\n",
       "    <tr style=\"text-align: right;\">\n",
       "      <th></th>\n",
       "      <th>id</th>\n",
       "      <th>listing_url</th>\n",
       "      <th>scrape_id</th>\n",
       "      <th>last_scraped</th>\n",
       "      <th>name</th>\n",
       "      <th>summary</th>\n",
       "      <th>space</th>\n",
       "      <th>description</th>\n",
       "      <th>experiences_offered</th>\n",
       "      <th>neighborhood_overview</th>\n",
       "      <th>...</th>\n",
       "      <th>requires_license</th>\n",
       "      <th>license</th>\n",
       "      <th>jurisdiction_names</th>\n",
       "      <th>instant_bookable</th>\n",
       "      <th>is_business_travel_ready</th>\n",
       "      <th>cancellation_policy</th>\n",
       "      <th>require_guest_profile_picture</th>\n",
       "      <th>require_guest_phone_verification</th>\n",
       "      <th>calculated_host_listings_count</th>\n",
       "      <th>reviews_per_month</th>\n",
       "    </tr>\n",
       "  </thead>\n",
       "  <tbody>\n",
       "    <tr>\n",
       "      <th>0</th>\n",
       "      <td>12089682</td>\n",
       "      <td>https://www.airbnb.com/rooms/12089682</td>\n",
       "      <td>20170918091737</td>\n",
       "      <td>2017-09-18</td>\n",
       "      <td>The Hayloft Balerno Edinburgh-Rural Chique</td>\n",
       "      <td>Newly converted for 2017 the Hayloft offers a ...</td>\n",
       "      <td>The hayloft has a double bedroom with en-suite...</td>\n",
       "      <td>Newly converted for 2017 the Hayloft offers a ...</td>\n",
       "      <td>none</td>\n",
       "      <td>Buteland Farm - where the Hayloft is located -...</td>\n",
       "      <td>...</td>\n",
       "      <td>f</td>\n",
       "      <td>NaN</td>\n",
       "      <td>NaN</td>\n",
       "      <td>f</td>\n",
       "      <td>t</td>\n",
       "      <td>strict</td>\n",
       "      <td>f</td>\n",
       "      <td>f</td>\n",
       "      <td>1</td>\n",
       "      <td>1.15</td>\n",
       "    </tr>\n",
       "  </tbody>\n",
       "</table>\n",
       "<p>1 rows × 96 columns</p>\n",
       "</div>"
      ],
      "text/plain": [
       "         id                            listing_url       scrape_id  \\\n",
       "0  12089682  https://www.airbnb.com/rooms/12089682  20170918091737   \n",
       "\n",
       "  last_scraped                                        name  \\\n",
       "0   2017-09-18  The Hayloft Balerno Edinburgh-Rural Chique   \n",
       "\n",
       "                                             summary  \\\n",
       "0  Newly converted for 2017 the Hayloft offers a ...   \n",
       "\n",
       "                                               space  \\\n",
       "0  The hayloft has a double bedroom with en-suite...   \n",
       "\n",
       "                                         description experiences_offered  \\\n",
       "0  Newly converted for 2017 the Hayloft offers a ...                none   \n",
       "\n",
       "                               neighborhood_overview        ...          \\\n",
       "0  Buteland Farm - where the Hayloft is located -...        ...           \n",
       "\n",
       "  requires_license license jurisdiction_names instant_bookable  \\\n",
       "0                f     NaN                NaN                f   \n",
       "\n",
       "  is_business_travel_ready cancellation_policy require_guest_profile_picture  \\\n",
       "0                        t              strict                             f   \n",
       "\n",
       "  require_guest_phone_verification calculated_host_listings_count  \\\n",
       "0                                f                              1   \n",
       "\n",
       "   reviews_per_month  \n",
       "0               1.15  \n",
       "\n",
       "[1 rows x 96 columns]"
      ]
     },
     "execution_count": 26,
     "metadata": {},
     "output_type": "execute_result"
    }
   ],
   "source": [
    "listings2 = pd.read_csv('airbnb_data/listings 2.csv')\n",
    "print(listings2.shape)\n",
    "listings2.head(1)"
   ]
  },
  {
   "cell_type": "code",
   "execution_count": 30,
   "metadata": {},
   "outputs": [
    {
     "name": "stdout",
     "output_type": "stream",
     "text": [
      "id\n",
      "listing_url\n",
      "scrape_id\n",
      "last_scraped\n",
      "name\n"
     ]
    }
   ],
   "source": [
    "for col in listings2.columns[:5]:\n",
    "    print(col)"
   ]
  },
  {
   "cell_type": "code",
   "execution_count": null,
   "metadata": {},
   "outputs": [],
   "source": []
  }
 ],
 "metadata": {
  "kernelspec": {
   "display_name": "Python 3",
   "language": "python",
   "name": "python3"
  },
  "language_info": {
   "codemirror_mode": {
    "name": "ipython",
    "version": 3
   },
   "file_extension": ".py",
   "mimetype": "text/x-python",
   "name": "python",
   "nbconvert_exporter": "python",
   "pygments_lexer": "ipython3",
   "version": "3.6.4"
  }
 },
 "nbformat": 4,
 "nbformat_minor": 2
}
